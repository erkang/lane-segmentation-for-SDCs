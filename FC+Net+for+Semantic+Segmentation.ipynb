{
 "cells": [
  {
   "cell_type": "markdown",
   "metadata": {},
   "source": [
    "# Load VGG"
   ]
  },
  {
   "cell_type": "code",
   "execution_count": 1,
   "metadata": {
    "collapsed": true
   },
   "outputs": [],
   "source": [
    "import os.path\n",
    "import tensorflow as tf\n",
    "import helper\n",
    "from helper import (\n",
    "    weight_variable, \n",
    "    bias_variable, \n",
    "    conv2d, \n",
    "    conv2d_transpose_strided\n",
    ")\n",
    "\n",
    "import project_tests as tests\n",
    "\n",
    "import numpy as np\n",
    "import matplotlib.pyplot as plt"
   ]
  },
  {
   "cell_type": "markdown",
   "metadata": {},
   "source": [
    "### Test"
   ]
  },
  {
   "cell_type": "code",
   "execution_count": 2,
   "metadata": {},
   "outputs": [
    {
     "name": "stdout",
     "output_type": "stream",
     "text": [
      "INFO:tensorflow:Restoring parameters from b'data/vgg/variables/variables'\n"
     ]
    }
   ],
   "source": [
    "vgg_path = 'data/vgg'\n",
    "sess = tf.Session()\n",
    "\n",
    "someinfo = tf.saved_model.loader.load(sess, ['vgg16'], vgg_path)"
   ]
  },
  {
   "cell_type": "code",
   "execution_count": 6,
   "metadata": {
    "collapsed": true
   },
   "outputs": [],
   "source": [
    "g = tf.get_default_graph()"
   ]
  },
  {
   "cell_type": "code",
   "execution_count": 8,
   "metadata": {},
   "outputs": [
    {
     "name": "stdout",
     "output_type": "stream",
     "text": [
      "<tensorflow.python.framework.ops.Graph object at 0x7f563d9e3fd0>\n"
     ]
    }
   ],
   "source": []
  },
  {
   "cell_type": "code",
   "execution_count": 9,
   "metadata": {
    "collapsed": true
   },
   "outputs": [],
   "source": [
    "n = np.array([n for n in g.as_graph_def().node if '_out' in n.name])"
   ]
  },
  {
   "cell_type": "code",
   "execution_count": 10,
   "metadata": {
    "collapsed": true
   },
   "outputs": [],
   "source": [
    "req = ['image_input','keep_prob','layer3_out','layer4_out','layer7_out']"
   ]
  },
  {
   "cell_type": "code",
   "execution_count": 11,
   "metadata": {},
   "outputs": [
    {
     "data": {
      "text/plain": [
       "[<tf.Tensor 'image_input:0' shape=(?, ?, ?, 3) dtype=float32>,\n",
       " <tf.Tensor 'keep_prob:0' shape=<unknown> dtype=float32>,\n",
       " <tf.Tensor 'layer3_out:0' shape=(?, ?, ?, 256) dtype=float32>,\n",
       " <tf.Tensor 'layer4_out:0' shape=(?, ?, ?, 512) dtype=float32>,\n",
       " <tf.Tensor 'layer7_out:0' shape=(?, ?, ?, 4096) dtype=float32>]"
      ]
     },
     "execution_count": 11,
     "metadata": {},
     "output_type": "execute_result"
    }
   ],
   "source": [
    "[g.get_tensor_by_name( r + \":0\") for r in req]"
   ]
  },
  {
   "cell_type": "markdown",
   "metadata": {},
   "source": [
    "### Functions"
   ]
  },
  {
   "cell_type": "code",
   "execution_count": 2,
   "metadata": {},
   "outputs": [
    {
     "name": "stdout",
     "output_type": "stream",
     "text": [
      "Tests Passed\n"
     ]
    }
   ],
   "source": [
    "def load_vgg(sess, vgg_path):\n",
    "    \"\"\"\n",
    "    Load Pretrained VGG Model into TensorFlow.\n",
    "    :param sess: TensorFlow Session\n",
    "    :param vgg_path: Path to vgg folder, containing \"variables/\" and \"saved_model.pb\"\n",
    "    :return: Tuple of Tensors from VGG model (image_input, keep_prob, layer3_out, layer4_out, layer3_out)\n",
    "    \"\"\" \n",
    "    _ = tf.saved_model.loader.load(sess, ['vgg16'], vgg_path)\n",
    "    \n",
    "    return (tf.get_default_graph().get_tensor_by_name( r + \":0\") for r in ['image_input','keep_prob','layer3_out','layer4_out','layer7_out'])\n",
    "\n",
    "tests.test_load_vgg(load_vgg, tf)"
   ]
  },
  {
   "cell_type": "code",
   "execution_count": 3,
   "metadata": {
    "collapsed": true
   },
   "outputs": [],
   "source": [
    "def p(x):\n",
    "    print(x.shape)"
   ]
  },
  {
   "cell_type": "code",
   "execution_count": 4,
   "metadata": {},
   "outputs": [
    {
     "name": "stdout",
     "output_type": "stream",
     "text": [
      "Tests Passed\n"
     ]
    }
   ],
   "source": [
    "def layers(vgg_layer3_out, vgg_layer4_out, vgg_layer7_out, num_classes):\n",
    "    \"\"\"\n",
    "    Create the layers for a fully convolutional network.  Build skip-layers using the vgg layers.\n",
    "    :param vgg_layer7_out: TF Tensor for VGG Layer 3 output\n",
    "    :param vgg_layer4_out: TF Tensor for VGG Layer 4 output\n",
    "    :param vgg_layer3_out: TF Tensor for VGG Layer 7 output\n",
    "    :param num_classes: Number of classes to classify\n",
    "    :return: The Tensor for the last layer of output\n",
    "    \"\"\"\n",
    "#     p(vgg_layer3_out)\n",
    "#     p(vgg_layer4_out)\n",
    "#     p(vgg_layer7_out)\n",
    "    \n",
    "    W8 = weight_variable([1, 1, 4096, num_classes], name=\"W8_1\")\n",
    "    b8 = bias_variable([num_classes], name=\"b8_1\")\n",
    "    conv8 = conv2d(vgg_layer7_out, W8, b8)\n",
    "#     p(conv8)\n",
    "    \n",
    "    \n",
    "    deconv_shape1 = vgg_layer4_out.get_shape()\n",
    "    W_t1 = weight_variable([4, 4, deconv_shape1[3].value, num_classes], name=\"W_t1\")\n",
    "    b_t1 = bias_variable([deconv_shape1[3].value], name=\"b_t1\")\n",
    "    conv_t1 = conv2d_transpose_strided(conv8, W_t1, b_t1, output_shape=tf.shape(vgg_layer4_out))\n",
    "    fuse_1 = tf.add(conv_t1, vgg_layer4_out, name=\"fuse_1\")\n",
    "#     p(fuse_1)\n",
    "    \n",
    "    deconv_shape2 = vgg_layer3_out.get_shape()\n",
    "    W_t2 = weight_variable([4, 4, deconv_shape2[3].value, deconv_shape1[3].value], name=\"W_t2\")\n",
    "    b_t2 = bias_variable([deconv_shape2[3].value], name=\"b_t2\")\n",
    "    conv_t2 = conv2d_transpose_strided(fuse_1, W_t2, b_t2, output_shape=tf.shape(vgg_layer3_out))\n",
    "    fuse_2 = tf.add(conv_t2, vgg_layer3_out, name=\"fuse_2\")\n",
    "#     p(fuse_2)\n",
    "    \n",
    "    batch_size = tf.shape(fuse_2)[0]\n",
    "    # height = tf.shape(fuse_2)[1]\n",
    "    # width = tf.shape(fuse_2)[2]\n",
    "    height, width = 160, 576\n",
    "#     print(batch_size, height, width, num_classes)\n",
    "    deconv_shape3 = tf.stack([batch_size, height, width, num_classes])\n",
    "#     p(deconv_shape3)\n",
    "    \n",
    "    # deconv_shape3 = [None, None, None, num_classes]\n",
    "    W_t3 = weight_variable([16, 16, num_classes, deconv_shape2[3].value], name=\"W_t3\")\n",
    "    b_t3 = bias_variable([num_classes], name=\"b_t3\")\n",
    "    conv_t3 = conv2d_transpose_strided(fuse_2, W_t3, b_t3, output_shape=deconv_shape3, stride=8)\n",
    "#     p(conv_t3)\n",
    "    \n",
    "    return conv_t3\n",
    "\n",
    "tests.test_layers(layers)"
   ]
  },
  {
   "cell_type": "code",
   "execution_count": 5,
   "metadata": {},
   "outputs": [
    {
     "name": "stdout",
     "output_type": "stream",
     "text": [
      "Tests Passed\n"
     ]
    }
   ],
   "source": [
    "def optimize(nn_last_layer, correct_label, learning_rate, num_classes):\n",
    "    \"\"\"\n",
    "    Build the TensorFLow loss and optimizer operations.\n",
    "    :param nn_last_layer: TF Tensor of the last layer in the neural network\n",
    "    :param correct_label: TF Placeholder for the correct label image\n",
    "    :param learning_rate: TF Placeholder for the learning rate\n",
    "    :param num_classes: Number of classes to classify\n",
    "    :return: Tuple of (logits, train_op, cross_entropy_loss)\n",
    "    \"\"\"\n",
    "    logits = tf.reshape(nn_last_layer, (-1, num_classes))\n",
    "    correct_label = tf.reshape(correct_label, (-1, num_classes))\n",
    "    \n",
    "    loss = tf.reduce_mean(tf.nn.softmax_cross_entropy_with_logits(logits=logits, labels=correct_label, name=\"entropy\"))\n",
    "\n",
    "    optimizer = tf.train.AdamOptimizer(learning_rate)\n",
    "    # optimizer = tf.train.MomentumOptimizer(learning_rate, momentum=0.9)\n",
    "    \n",
    "    grads = optimizer.compute_gradients(loss, var_list=tf.trainable_variables())\n",
    "    train_op = optimizer.apply_gradients(grads)\n",
    "    \n",
    "    return logits, train_op, loss\n",
    "\n",
    "tests.test_optimize(optimize)"
   ]
  },
  {
   "cell_type": "code",
   "execution_count": 6,
   "metadata": {
    "collapsed": true
   },
   "outputs": [],
   "source": [
    "def train_nn(sess, epochs, batch_size, get_batches_fn, train_op, cross_entropy_loss, input_image,\n",
    "             correct_label, keep_prob, learning_rate):\n",
    "    \"\"\"\n",
    "    Train neural network and print out the loss during training.\n",
    "    :param sess: TF Session\n",
    "    :param epochs: Number of epochs\n",
    "    :param batch_size: Batch size\n",
    "    :param get_batches_fn: Function to get batches of training data.  Call using get_batches_fn(batch_size)\n",
    "    :param train_op: TF Operation to train the neural network\n",
    "    :param cross_entropy_loss: TF Tensor for the amount of loss\n",
    "    :param input_image: TF Placeholder for input images\n",
    "    :param correct_label: TF Placeholder for label images\n",
    "    :param keep_prob: TF Placeholder for dropout keep probability\n",
    "    :param learning_rate: TF Placeholder for learning rate\n",
    "    \"\"\"\n",
    "    \n",
    "    lossess = []\n",
    "    sess.run(tf.global_variables_initializer())\n",
    "    for epoch in range(epochs):\n",
    "        for idx, (train_images, train_gt) in enumerate(get_batches_fn(batch_size)):\n",
    "            feed_dict = {input_image: train_images, correct_label: train_gt, keep_prob: 0.85}\n",
    "            sess.run(train_op, feed_dict=feed_dict)\n",
    "            \n",
    "            if idx%20 == 0:\n",
    "                train_loss = sess.run([cross_entropy_loss], feed_dict=feed_dict)\n",
    "                print(\"[{}/{}] Loss: {:.2f}\".format(idx, epoch, train_loss[0]))\n",
    "                lossess.append(train_loss[0])\n",
    "    \n",
    "    return lossess\n",
    "                \n",
    "# tests.test_train_nn(train_nn)"
   ]
  },
  {
   "cell_type": "code",
   "execution_count": 9,
   "metadata": {},
   "outputs": [
    {
     "name": "stdout",
     "output_type": "stream",
     "text": [
      "Tests Passed\n",
      "INFO:tensorflow:Restoring parameters from b'./data/vgg/variables/variables'\n",
      "[0/0] Loss: 127.42\n",
      "[20/0] Loss: 4.62\n",
      "[0/1] Loss: 0.95\n",
      "[20/1] Loss: 0.33\n",
      "[0/2] Loss: 0.25\n",
      "[20/2] Loss: 0.15\n",
      "[0/3] Loss: 0.19\n",
      "[20/3] Loss: 0.14\n",
      "Training Finished. Saving test images to: ./runs/1499290655.9898217\n"
     ]
    }
   ],
   "source": [
    "num_classes = 2\n",
    "image_shape = (160, 576)\n",
    "data_dir = './data'\n",
    "runs_dir = './runs'\n",
    "tests.test_for_kitti_dataset(data_dir)\n",
    "\n",
    "# Download pretrained vgg model\n",
    "helper.maybe_download_pretrained_vgg(data_dir)\n",
    "\n",
    "# OPTIONAL: Train and Inference on the cityscapes dataset instead of the Kitti dataset.\n",
    "# You'll need a GPU with at least 10 teraFLOPS to train on.\n",
    "# https://www.cityscapes-dataset.com/\n",
    "\n",
    "tf.reset_default_graph()\n",
    "    \n",
    "vgg_path = './data/vgg'\n",
    "epochs, batch_size, learning_rate = 4, 8, 1e-4\n",
    "with tf.Session() as sess:\n",
    "    # Create function to get batches\n",
    "    get_batches_fn = helper.gen_batch_function(os.path.join(data_dir, 'data_road/training'), image_shape)\n",
    "    \n",
    "    # OPTIONAL: Augment Images for better results\n",
    "    #  https://datascience.stackexchange.com/questions/5224/how-to-prepare-augment-images-for-neural-network\n",
    "    \n",
    "    correct_label = tf.placeholder(tf.float32, [None, None, None, num_classes])\n",
    "    \n",
    "    # TODO: Build NN using load_vgg, layers, and optimize function\n",
    "    input_image, keep_prob, vgg_layer3_out, vgg_layer4_out, vgg_layer7_out = load_vgg(sess, vgg_path)\n",
    "    layers_output = layers(vgg_layer3_out, vgg_layer4_out, vgg_layer7_out, num_classes)\n",
    "    logits, train_op, cross_entropy_loss = optimize(layers_output, correct_label, learning_rate, num_classes)\n",
    "    \n",
    "    # TODO: Train NN using the train_nn function\n",
    "    lossess = train_nn(sess, epochs, batch_size, get_batches_fn, train_op, cross_entropy_loss, input_image, correct_label, keep_prob, learning_rate)\n",
    "    \n",
    "    # TODO: Save inference data using helper.save_inference_samples\n",
    "    helper.save_inference_samples(runs_dir, data_dir, sess, image_shape, logits, keep_prob, input_image)\n",
    "    "
   ]
  },
  {
   "cell_type": "code",
   "execution_count": 10,
   "metadata": {},
   "outputs": [
    {
     "data": {
      "image/png": "[encoded data removed]",
      "text/plain": [
       "<matplotlib.figure.Figure at 0x7fd29829dda0>"
      ]
     },
     "metadata": {},
     "output_type": "display_data"
    }
   ],
   "source": [
    "plt.plot(lossess)\n",
    "plt.ylim([0, 10])\n",
    "plt.show()"
   ]
  },
  {
   "cell_type": "code",
   "execution_count": 13,
   "metadata": {},
   "outputs": [
    {
     "ename": "SyntaxError",
     "evalue": "EOL while scanning string literal (<ipython-input-13-5c2824508f80>, line 2)",
     "output_type": "error",
     "traceback": [
      "\u001b[0;36m  File \u001b[0;32m\"<ipython-input-13-5c2824508f80>\"\u001b[0;36m, line \u001b[0;32m2\u001b[0m\n\u001b[0;31m    Image(filename='./runs/1499290655.9898217/um_000006\u001b[0m\n\u001b[0m                                                       ^\u001b[0m\n\u001b[0;31mSyntaxError\u001b[0m\u001b[0;31m:\u001b[0m EOL while scanning string literal\n"
     ]
    }
   ],
   "source": [
    "from IPython.display import Image\n",
    "Image(filename='./runs/1499290655.9898217/um_000006\n",
    "      .png')"
   ]
  },
  {
   "cell_type": "code",
   "execution_count": null,
   "metadata": {
    "collapsed": true
   },
   "outputs": [],
   "source": []
  }
 ],
 "metadata": {
  "kernelspec": {
   "display_name": "Python 3",
   "language": "python",
   "name": "python3"
  },
  "language_info": {
   "codemirror_mode": {
    "name": "ipython",
    "version": 3
   },
   "file_extension": ".py",
   "mimetype": "text/x-python",
   "name": "python",
   "nbconvert_exporter": "python",
   "pygments_lexer": "ipython3",
   "version": "3.4.3"
  }
 },
 "nbformat": 4,
 "nbformat_minor": 2
}
