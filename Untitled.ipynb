{
 "cells": [
  {
   "cell_type": "markdown",
   "metadata": {},
   "source": [
    "# Semantic Segmentation"
   ]
  },
  {
   "cell_type": "code",
   "execution_count": 1,
   "metadata": {
    "collapsed": true
   },
   "outputs": [],
   "source": [
    "import os.path\n",
    "import tensorflow as tf\n",
    "from helper import (\n",
    "    weight_variable, \n",
    "    bias_variable, \n",
    "    conv2d, \n",
    "    conv2d_transpose_strided\n",
    ")\n",
    "import helper\n",
    "\n",
    "\n",
    "import project_tests as tests\n",
    "import numpy as np\n",
    "import matplotlib.pyplot as plt\n"
   ]
  },
  {
   "cell_type": "code",
   "execution_count": null,
   "metadata": {},
   "outputs": [
    {
     "name": "stdout",
     "output_type": "stream",
     "text": [
      "INFO:tensorflow:Restoring parameters from b'data/vgg/variables/variables'\n"
     ]
    }
   ],
   "source": [
    "vgg_path = 'data/vgg'\n",
    "sess = tf.Session()\n",
    "\n",
    "someinfo = tf.saved_model.loader.load(sess, ['vgg16'], vgg_path)"
   ]
  },
  {
   "cell_type": "code",
   "execution_count": null,
   "metadata": {
    "collapsed": true
   },
   "outputs": [],
   "source": []
  },
  {
   "cell_type": "code",
   "execution_count": null,
   "metadata": {
    "collapsed": true
   },
   "outputs": [],
   "source": [
    "def load_vgg(sess, vgg_path):\n",
    "    \"\"\"\n",
    "    Load Pretrained VGG Model into TensorFlow.\n",
    "    :param sess: TensorFlow Session\n",
    "    :param vgg_path: Path to vgg folder, containing \"variables/\" and \"saved_model.pb\"\n",
    "    :return: Tuple of Tensors from VGG model (image_input, keep_prob, layer3_out, layer4_out, layer7_out)\n",
    "    \"\"\"\n",
    "    # TODO: Implement function\n",
    "    #   Use tf.saved_model.loader.load to load the model and weights\n",
    "#     vgg_tag = 'vgg16'\n",
    "#     vgg_input_tensor_name = 'image_input:0'\n",
    "#     vgg_keep_prob_tensor_name = 'keep_prob:0'\n",
    "#     vgg_layer3_out_tensor_name = 'layer3_out:0'\n",
    "#     vgg_layer4_out_tensor_name = 'layer4_out:0'\n",
    "#     vgg_layer7_out_tensor_name = 'layer7_out:0'\n",
    "    \n",
    "    _ = tf.saved_model.loader.load(sess, ['vgg16'], vgg_path)\n",
    "    \n",
    "    return (tf.get_default_graph().get_tensor_by_name( r + \":0\") for r in ['image_input','keep_prob','layer3_out','layer4_out','layer7_out'])\n",
    "tests.test_load_vgg(load_vgg, tf)"
   ]
  }
 ],
 "metadata": {
  "kernelspec": {
   "display_name": "Python 3",
   "language": "python",
   "name": "python3"
  },
  "language_info": {
   "codemirror_mode": {
    "name": "ipython",
    "version": 3
   },
   "file_extension": ".py",
   "mimetype": "text/x-python",
   "name": "python",
   "nbconvert_exporter": "python",
   "pygments_lexer": "ipython3",
   "version": "3.4.3"
  }
 },
 "nbformat": 4,
 "nbformat_minor": 2
}
